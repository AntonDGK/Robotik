{
 "cells": [
  {
   "cell_type": "markdown",
   "id": "041ae70f",
   "metadata": {},
   "source": [
    "  <style>\n",
    "    .container {\n",
    "      display: flex;\n",
    "      gap: 10px; /* Optional spacing between divs */\n",
    "    }\n",
    "\n",
    "    .box h1 {\n",
    "      font-size: 50px;\n",
    "      padding-top: 10px;\n",
    "      font-weight: 600;\n",
    "    }\n",
    "  </style>\n",
    "  <div class=\"container\" style=\"\">\n",
    "    <div class=\"box\">\n",
    "      <h1>Planning for Robotics</h1>\n",
    "    </div>\n",
    "    <div class=\"box\" align=\"right\">\n",
    "      <img src=\"images/template/course_logo.svg\" alt=\"Planning for Robotics\" height=\"70\"/>\n",
    "      &nbsp;&nbsp;&nbsp;&nbsp;\n",
    "      <img src=\"images/template/logo_i6.svg\" alt=\"Chair Logo\" height=\"70\"/>\n",
    "      &nbsp;&nbsp;&nbsp;&nbsp;\n",
    "    </div>\n",
    "  </div>"
   ]
  },
  {
   "cell_type": "markdown",
   "id": "522d1e78",
   "metadata": {},
   "source": [
    "# Exercise Sheet 4 - Task Planning"
   ]
  },
  {
   "cell_type": "code",
   "execution_count": 5,
   "id": "c404f228-66b3-4f7d-a529-a468bf35662f",
   "metadata": {},
   "outputs": [
    {
     "ename": "SyntaxError",
     "evalue": "invalid character '’' (U+2019) (676452971.py, line 2)",
     "output_type": "error",
     "traceback": [
      "\u001b[0;36m  File \u001b[0;32m\"/var/tmp/ipykernel_548394/676452971.py\"\u001b[0;36m, line \u001b[0;32m2\u001b[0m\n\u001b[0;31m    In this week’s lab, we change course away from what we previously grouped as \"planning for motion\", toward deliberative reasoning. I.e., reasoning what to do instead of reasoning how to do it. For this, we will explore classical planning using the STRIPS formalism and the PDDL language. Unlike motion or navigation planning, where plans operate over continuous or geometric spaces, classical planning works on symbolic representations of the world — sets of discrete facts that describe the current state, and action descriptions that model how the world can change. Regardless, we can still use some of the same techniques we've learned so far to solve our problems, namely we can still employ search.\u001b[0m\n\u001b[0m                ^\u001b[0m\n\u001b[0;31mSyntaxError\u001b[0m\u001b[0;31m:\u001b[0m invalid character '’' (U+2019)\n"
     ]
    }
   ],
   "source": [
    "## Introduction\n",
    "In this week’s lab, we change course away from what we previously grouped as \"planning for motion\", toward deliberative reasoning. I.e., reasoning what to do instead of reasoning how to do it. For this, we will explore classical planning using the STRIPS formalism and the PDDL language. Unlike motion or navigation planning, where plans operate over continuous or geometric spaces, classical planning works on symbolic representations of the world — sets of discrete facts that describe the current state, and action descriptions that model how the world can change. Regardless, we can still use some of the same techniques we've learned so far to solve our problems, namely we can still employ search. \n",
    "\n",
    "One of the standard modeling languages for this kind of planning is PDDL (Planning Domain Definition Language), which is based on a fragment of First-Order Logic (FOL). It describes actions with preconditions and effects and enables planning systems to generate valid sequences of actions (plans) that lead from an initial state to a goal state. The actions that we model in PDDL are usually abstracted to some level, omitting geometric parameters or other details relevant to the low-level execution. \n",
    "\n",
    "In this exercise, we will introduce key ideas of domain modeling, learn how to express problems in PDDL, and then build a planner to solve them. In the final part, we will explore planning as heuristic search, including an introduction to the delete-relaxation heuristic, one of the most widely used strategies in optimal and satisficing planners. We will make use of the Universal Planning Framework (UPF) to parse and work with PDDL, and optionally visualize planning domains. However, most of the reasoning will be implemented by you.\n",
    "\n",
    "### Learning Objectives\n",
    "- Understand the basics of STRIPS and its relation to First-Order Logic\n",
    "- Learn how to define planning domains and problems in PDDL\n",
    "- Implement a basic forward state-space planner\n",
    "- Apply heuristic search and understand the role of relaxation-based heuristics\n",
    "\n",
    "\n",
    "### Acknowledgments\n",
    "Some of the contents are based on Hector's lecture on \"Actions and Planning in AI\"."
   ]
  },
  {
   "cell_type": "code",
   "execution_count": 6,
   "id": "35a7d166",
   "metadata": {},
   "outputs": [],
   "source": [
    "import os\n",
    "import sys\n",
    "import math\n",
    "import heapq\n",
    "import itertools\n",
    "import time\n",
    "import random\n",
    "from typing import List, Tuple, Dict, Optional, Set\n",
    "\n",
    "import matplotlib.pyplot as plt\n",
    "from graphviz import Digraph\n",
    "\n",
    "from collections import deque, defaultdict, namedtuple\n",
    "\n",
    "try:\n",
    "    from unified_planning.shortcuts import *\n",
    "    from unified_planning.io import PDDLReader\n",
    "except ImportError as e:\n",
    "    raise ImportError(\"Please install the 'unified-planning' package (e.g., via `pip install unified-planning[all]`)\") from e\n"
   ]
  },
  {
   "cell_type": "markdown",
   "id": "e484b87f",
   "metadata": {},
   "source": [
    "## Task 1: Introduction to AI Planning\n",
    "Recall the types of representations we used in the previous exercise sheets. In motion planning, we have expressed our environment, our actions, and our goals in dense real-valued vector spaces. In navigation planning, we made use of discretisation and represented our space in some integer, 2-dimensional vector space. Both of these representations are suitable to answer the question of \"how\" to solve the respective problem, as planning in these spaces directly relates to actionable movements for the robot. However, if we want to solve more complex tasks, we often need to chain different \"actions\" and reason about the \"what\" first. \n",
    "\n",
    "Consider, for example, a robot tasked with helping you clean a kitchen. You might have some cups in your dishwasher that need to be put into a cupboard. Some dirty plates and glasses from your kitchen table need to be put into the dishwasher. In this example, many different items need to picked up, put down somewhere else, and moved across a room. Performing this kind of reasoning, e.g., in the configuration space, would lead to a drastic increase in the dimensionality of the space even in the trivial case, where order of operation is neglected. \n",
    "\n",
    "In most cases, however, order of operation can not be neglected. Some of the ordering might just reflect preferences or \"common sense\" like taking the clean objects out of the dishwasher first to avoid getting them dirty again. Others might reflect physical constraints like objects blocking access to other objects, doors that need to be opened, etc.\n",
    "\n",
    "### From Logic to Language\n",
    "In symbolic planning, we aim to describe and reason about the world using some logical abstraction. I.e., we use a declarative, logical representation of the world. Typically, the chosen representations are in some fragment of First-Order Logic (FOL). FOL provides a powerful framework to describe objects, their properties and the relations between them. You should be familiar with FOL from your course on mathematical logics, but here is a small recap.  \n",
    "\n",
    "FOL, consists of a set of logical symbols, and non-logical symbols. The logical symbols include the logical connectors as well as quantifiers. The non-logical symbols include: $n$-ary predicates, describing the relations between elements, $n$-ary function symbols, and an infinite set of variables. Constants are $0$-ary functions. We call a construct of FOL a term, if its either a variable or an arbitrary stack of functions applied on variables. A well-formed formular is a construct that is built from the following rules:\n",
    "- predicate symbols with terms as arguments are formulas.\n",
    "- Equality between terms is a formula.\n",
    "- Negation applied on a formula is a formula\n",
    "- Binary connectives (e.g., and, or, implication, etc) applied on two formulas are a formula\n",
    "- Quantifiers applied on one variable and one formula is a formula. \n",
    "\n",
    "Consider the following example of a WFF:\n",
    "$$\n",
    "\\forall x \\text{Cup}(x) \\implies \\exists y (\\text{Dishwasher}(y) \\wedge \\text{In}(x,y))\n",
    "$$\n",
    "While predicates are intrinsically meaningless, the above expression might be used to express that \"every cup is in some dishwasher\", specifying a partial goal of the setting we introduced above. While we can express these things nicely with the tools of FOL, we often use certain subsets that we call languages. \n",
    "\n",
    "A first order language, is a set of symbols and syntactic rules that allow us to construct well-formed formulas in that language. Often, these languages introduce some restrictions on the expressiveness of the resulting formulas. I.e., they might remove quantifiers, or restrict the arity of predicates. These restrictions are often beneficial in terms of computability and completeness. Generally, a less expressive language is easier to deal with algorithmitcally. \n",
    "\n",
    "The STRIPS language (and its successor PDDL) are examples of such restricted FOL-languages. In their base version, they include the following simplifcations:\n",
    "- No function symbols\n",
    "- No explicit quantifiers (quantification is hwoever possible through parameter instantiation)\n",
    "- Only conjunctions of positive literals in states (closed-world assumption)\n",
    "- Actions are pre-defined and limited. \n",
    "\n",
    "STRIPS (Stanford Research Institute Problem Solver), was originally developed in the early 1970s as part of the Shakey robot project. Shakey was the first AI-driven robot that could autonomously perceive, navigation, and plan its actions. PDDL was introduced as a standardized modeling language for benchmarking of automated planners. It is largely based on STRIPS and makes use of the following concepts:\n",
    "- **Predicates**: similar to standard FOL, e.g., at(robot, room1), holding(cup1), etc.\n",
    "- **Objects**: named constant symbols, e.g., robot, room1, cup1, these are usually typed (which can be expressed in FOL as $1$-ary predicates) \n",
    "- **Operators (Actions)**: defined using parameters, preconditions, and effects, change the *state* of the world. \n",
    "\n",
    "In PDDL, a problem consists of a general domain file (describing the predicates and action schemas, and types), and a problem file (describing the specifics of the current instance like which objects are available, what is the initial state, and what is the desired goal state). \n",
    "\n",
    "One of the most famous examples in classical planning is the Blocksworld. Here, a set of blocks, arbitrarily placed on a table, must be stacked in the desired configuration by a robot arm. The domain for blocksworld can be described the following way using PDDL:"
   ]
  },
  {
   "cell_type": "raw",
   "id": "3e543555",
   "metadata": {
    "vscode": {
     "languageId": "raw"
    }
   },
   "source": [
    "(define (domain Blocks)\n",
    "    (:requirements :strips :typing)\n",
    "\n",
    "    (:types block)\n",
    "\n",
    "    (:predicates (clear ?x - block)\n",
    "                 (ontable ?x - block)\n",
    "                 (handempty)\n",
    "                 (holding ?x - block)\n",
    "                 (on ?x - block ?y - block))\n",
    "    \n",
    "    (:action pick_up\n",
    "        :parameters (?x)\n",
    "        :precondition (and (clear ?x) (ontable ?x) (handempty))\n",
    "        :effect (and (not (ontable ?x)) (not (clear ?x)) (not (handempty)) (holding ?x)))\n",
    "    (:action put_down\n",
    "        :parameters (?x)\n",
    "        :precondition (holding ?x)\n",
    "        :effect (and (not (holding ?x)) (clear ?x) (handempty) (ontable ?x)))\n",
    "    (:action stack\n",
    "        :parameters (?x ?y)\n",
    "        :precondition (and (holding ?x) (clear ?y))\n",
    "        :effect (and (not (holding ?x)) (not (clear ?y)) (clear ?x)(handempty)(on ?x ?y)))\n",
    "    (:action unstack\n",
    "        :parameters (?x ?y)\n",
    "        :precondition (and (on ?x ?y) (clear ?x) (handempty))\n",
    "        :effect (and (clear ?y) (holding ?x) (not (on ?x ?y)) (not (clear ?x)) (not (handempty))))\n",
    ")"
   ]
  },
  {
   "cell_type": "markdown",
   "id": "02e1d971",
   "metadata": {},
   "source": [
    "We have two types: block and table, that indicate what kind of objects we might have. the actions pick_up and put_down are for picking and putting blocks from and on tables, wheres stack and unstack allow us to pick and put blocks from and on other blocks. From a symbolic level, this abstraction is sufficient to express any problem of stacking blocks into a desired configuration. A specific example with 3 blocks might be written in PDDL as follows:"
   ]
  },
  {
   "cell_type": "raw",
   "id": "d4a02265",
   "metadata": {
    "vscode": {
     "languageId": "raw"
    }
   },
   "source": [
    "(define (problem Blocks-3)\n",
    "    (:domain Blocks)\n",
    "    (:objects A B C - block)\n",
    "    (:init (clear A) (clear B) (on A C) (ontable C) (ontable B) (handempty))\n",
    "    (:goal (and (on C B) (on B A)))\n",
    ")"
   ]
  },
  {
   "cell_type": "markdown",
   "id": "829ca5cd",
   "metadata": {},
   "source": [
    "Here, our initial state is that of block A being stacked on block C, and block B by itself on the table. In our desired configuration we want to have a full stack of C on B on A. "
   ]
  },
  {
   "cell_type": "markdown",
   "id": "2307e213",
   "metadata": {
    "jp-MarkdownHeadingCollapsed": true
   },
   "source": [
    "\n",
    "\n",
    "### From Language to States\n",
    "What we have written down here using PDDL, translates to a formal model of classical planning where a problem $P$ is defined as:\n",
    "$$\n",
    "P = \\langle F, I, O, G\\rangle,\n",
    "$$\n",
    "where:\n",
    "- $F$ is a set of propositional (ground) fluents (i.e., predicates like clear(A))\n",
    "- $I \\subseteq F$ is the set of ground fluents that are true in the initial state\n",
    "- $G \\subseteq F$ is the set of ground fluents that must be true in any goal state\n",
    "- $O$ is a finite set of operators, where $o = \\langle \\text{pre}(o), \\text{add}(o), \\text{del}(o) \\rangle \\in O$, with $\\text{pre}(o), \\text{add}(o), \\text{del}(o) \\subseteq F$.\n",
    "\n",
    "Each action $o$, transforms the state $s \\subseteq F$ into a new state $s'$ by:\n",
    "- Checking if $\\text{pre}(o) \\subseteq s$\n",
    "- Removing $\\text{del}(o)$ from $s$\n",
    "- Adding $\\text{add}(o)$ to $s$\n",
    "\n",
    "You may notice that while we use variables in STRIPS/PDDL, the above formalism talks about ground fluents. This is an important difference in notation, can in practice however be ignored by \"grounding out\" the PDDL problem. \n",
    "\n",
    "We can now define a state model for a planning problem instance as\n",
    "$S = \\langle \\mathcal{S}, s_0, \\mathcal{S}_G, \\text{Act}, A, f, c \\rangle$, where:\n",
    "- $\\mathcal{S}$: corresponding to $F$ in our previous model\n",
    "- $s_0$: initial state.\n",
    "- $\\mathcal{S}_G$: set of goal states, i.e., all states $s \\subseteq S$ such that $G \\subseteq s$.\n",
    "- $\\text{Act}$: set of actions, corresponding to $O$.\n",
    "- $A(s)$: set of applicable actions in state $s$, i.e., all ground actions $o$ such that $\\text{pre}(o) \\subseteq s$.\n",
    "- $f(a, s)$: deterministic transition function (applying add and del for $a$).\n",
    "- $c(a, s)$: cost (often just 1).\n",
    "\n"
   ]
  },
  {
   "cell_type": "markdown",
   "id": "f250e80b",
   "metadata": {},
   "source": [
    "### From States to Search\n",
    "This state model formulation matches the structure of a directed graph. Finding a plan for the problem $S(P)$ in state model formulation, reduces to finding a path in a graph where the\n",
    "- Nodes represent the states $s$ in the model\n",
    "- Edges $(s, s')$ capture corresponding transitions $s' = f(a,s), a \\in A(s)$.\n",
    "\n",
    "These state models and graphs are implicitely given by $P$ and are exponential in the number of atoms in $F$. From previous exercises we know that once we have a graph, we can use general graph search algorithms to find a solution to our problem. In this specific example, the problem can be phrased as finding a path from the root $s_0$ to a goal $s \\in \\mathcal{S}_G$ by applying actions. However, due to the size, we will see that its critical to use some heuristic function to guide the search."
   ]
  },
  {
   "cell_type": "markdown",
   "id": "6b8a8e94",
   "metadata": {},
   "source": [
    "### Coding Task 1.1 - FOL Expressions\n",
    "Translate this action into full First-Order Logic using quantifiers:\n",
    "\n",
    "“If a robot is in a room and the room is connected to another, it can move there.”"
   ]
  },
  {
   "cell_type": "markdown",
   "id": "d1c2dfed-ab4f-46f6-ab30-65ff4e4c7b49",
   "metadata": {
    "vscode": {
     "languageId": "raw"
    }
   },
   "source": [
    "move(r, room1, room2) ; \\\\\\\n",
    "r $\\in$ Robot ; \\\\\\\n",
    "room1, room2 $\\in$ Room ; \\\\\\\n",
    "(r in room1 $\\land$ room1 connected room2) $\\Rightarrow$ (r in room1 $\\xor$ r in room2) ; \\\\\\"
   ]
  },
  {
   "cell_type": "markdown",
   "id": "118b4e14",
   "metadata": {},
   "source": [
    "### Coding Task 1.2 - Planning Problem Modelling\n",
    "Translate the previous expression into a planning model with ground fluents and operators according to the $P = \\langle F, I, O, G\\rangle$ model. Provide some initial state and goal state by describing them as set of fluents. Define the add, del, and pre lists for the operators. Re-use the same robot room navigation problem from before as your base. "
   ]
  },
  {
   "cell_type": "code",
   "execution_count": 2,
   "id": "51035bdb-6808-4cc4-9b63-3ccbc4f0b87a",
   "metadata": {
    "vscode": {
     "languageId": "raw"
    }
   },
   "outputs": [],
   "source": [
    "# F = { ... }\n",
    "\n",
    "# I = { ... }\n",
    "\n",
    "# G = { ... }\n",
    "\n",
    "# O = [\n",
    "#   {\n",
    "#     'name': 'move(r1, room1, room2)',\n",
    "#     'pre': { ... },\n",
    "#     'add': { ... },\n",
    "#     'del': { ... }\n",
    "#   },\n",
    "#   ...\n",
    "# ]"
   ]
  },
  {
   "cell_type": "raw",
   "id": "10ca7285",
   "metadata": {
    "vscode": {
     "languageId": "raw"
    }
   },
   "source": [
    "# F = { in ?robot ?room1, in ?robot ?room2, connected ?room1 ?room2 }\n",
    "\n",
    "# I = { in ?robot ?room1, connected ?room1 ?room2  }\n",
    "\n",
    "# G = { in ?robot ?room2 }\n",
    "\n",
    "# O = [\n",
    "#   {\n",
    "#     'name': 'move(r1, room1, room2)',\n",
    "#     'pre': { in ?robot ?room1, connected ?room1 ?room2 },\n",
    "#     'add': { in ?robot ?room2 },\n",
    "#     'del': { in ?robot ?room1 }\n",
    "#   },\n",
    "#   ...\n",
    "# ]"
   ]
  },
  {
   "cell_type": "markdown",
   "id": "9bbfcdd1",
   "metadata": {},
   "source": [
    "### Coding Task 1.3 - Model the Problem in PDDL\n",
    "Translate the previous example into a fully fledged PDDL model. Recall that PDDL separates domain and problem knowledge. Thus you'll need to provide both parts separate from each other. For your problem, create one example for a robot that wants to move from one room to another room with at least two paths possible solution paths. "
   ]
  },
  {
   "cell_type": "raw",
   "id": "b24d7584",
   "metadata": {
    "vscode": {
     "languageId": "raw"
    }
   },
   "source": [
    "# Domain File\n",
    "(define (domain robot-navigation)\n",
    "  (:requirements :strips :typing)\n",
    "  (:types\n",
    "        (Robot - object Room)\n",
    "    )\n",
    "\n",
    "  (:predicates\n",
    "        (in ?r - Robot ?x - Room) \n",
    "        (connected ?x - Room ?y - Room)\n",
    "  )\n",
    "\n",
    "  (:action move\n",
    "        :parameters (?r - Robot ?x - room ?y - room)\n",
    "        :precondition (and (in ?r ?x) (connected ?x ?y))\n",
    "        :effect (and (not (in ?r ?x)) (in ?r ?y))\n",
    "  )\n",
    ")\n"
   ]
  },
  {
   "cell_type": "raw",
   "id": "1504c364",
   "metadata": {
    "vscode": {
     "languageId": "raw"
    }
   },
   "source": [
    "# Problem File\n",
    "(define (problem move-example)\n",
    "  (:domain robot-navigation)\n",
    "\n",
    "  (:objects\n",
    "    r - Robot\n",
    "    room1 - Room\n",
    "    room2 - Room\n",
    "  )\n",
    "\n",
    "  (:init\n",
    "    (in r room1)\n",
    "    (connected room1 room2)\n",
    "  )\n",
    "\n",
    "  (:goal\n",
    "    (in r room2)\n",
    "  )\n",
    ")"
   ]
  },
  {
   "cell_type": "markdown",
   "id": "1d796c59",
   "metadata": {},
   "source": [
    "### Coding Task 1.4 - Visualise the State Space\n",
    "Visualize the state space for the above problem + domain description as a graph."
   ]
  },
  {
   "cell_type": "code",
   "execution_count": null,
   "id": "49d799d3",
   "metadata": {},
   "outputs": [],
   "source": [
    "# Das was Kevin in Gimp gemahlt hat danke kevin"
   ]
  },
  {
   "cell_type": "markdown",
   "id": "7c1542ec",
   "metadata": {},
   "source": [
    "## Task 2: PDDL Planning\n",
    "We've now covered the basics of what makes a planning model for PDDL/STRIPS. We've also seen how we can generate a search graph for our planning problem and thus formulate the problem of generating a plan as one of finding a path between two nodes in the search graph. \n",
    "\n",
    "A planner is -- in a sense -- nothing more than a search algorithm over symbolic states.\n",
    "In case of forward search, the planner tarts at $s_0 = I$ and iteratively expands child states to find a state $s$ where $G \\subseteq s$. This search can be done using the standard graph search algorithms you are already familiar with from previous exercises or other classes:\n",
    "- Breadth-first search (BFS)\n",
    "- Uniform-cost search\n",
    "- Depth-first search\n",
    "- A* search (when using heuristics)\n",
    "\n",
    "Two important practical considerations for implementing a modern planner are what kind of heuristic to choose, and how to represent the state space in a memory efficient way. We will look into heuristics in the next section and omit the topic of efficient representations for this course. Instead, we will work with the Universal Planning Framework (UPF) in this exercise. \n",
    "\n",
    "The UPF is a modern Python-based library that provides a unified interface for planning languages and solvers. It supports:\n",
    "- Parsing PDDL domains and problems and exporting them to target planners.\n",
    "- Interfacing with many common planners (e.g., Tarski, pyperplan, FastDownward).\n",
    "- Tools to inspecting fluents, actions, and initial/goal states.\n",
    "\n",
    "For a more detailed introduction refer to the following resources: \n",
    "- Website: https://github.com/aiplan4eu/unified-planning\n",
    "- Documentation: https://unified-planning.readthedocs.io/\n",
    "\n",
    "Parts of the exercise will only be solvable if you study the documentation, and the code in the repository on GitHub. This is intentional, as its representative of common situations when you're working with existing libraries or frameworks. \n",
    "\n",
    "\n",
    "### Coding Task 2.1\n",
    "With the UPF, you can directly parse the PDDL domain and problem files from the previous tasks and inspect the parsing results. Example code for this is provided below. Explore some of the features of the UPF and familiarise yourself with the results from parsing. Think about how you could build a search tree from these representations. Take a special look at the representations of pre-conditions of actions."
   ]
  },
  {
   "cell_type": "code",
   "execution_count": 91,
   "id": "9b4e51db",
   "metadata": {},
   "outputs": [
    {
     "name": "stdout",
     "output_type": "stream",
     "text": [
      "Fluents: [bool at[r=robot, room=room], bool connected[from=room, to=room]]\n",
      "Actions: [action move(robot r, room from, room to) {\n",
      "    preconditions = [\n",
      "      (at(r, from) and connected(from, to))\n",
      "    ]\n",
      "    effects = [\n",
      "      at(r, from) := false\n",
      "      at(r, to) := true\n",
      "    ]\n",
      "  }]\n",
      "Initial state: dict_items([(at(r1, room1), true), (connected(room1, room2), true), (connected(room2, room3), true), (connected(room1, room3), true)])\n",
      "Goals: [at(r1, room3)]\n"
     ]
    }
   ],
   "source": [
    "from unified_planning.io import PDDLReader\n",
    "\n",
    "reader = PDDLReader()\n",
    "problem = reader.parse_problem(\"domain.pddl\", \"problem.pddl\")\n",
    "\n",
    "print(\"Fluents:\", problem.fluents)\n",
    "print(\"Actions:\", problem.actions)\n",
    "print(\"Initial state:\", problem.explicit_initial_values.items())\n",
    "print(\"Goals:\", problem.goals)"
   ]
  },
  {
   "cell_type": "code",
   "execution_count": 92,
   "id": "c5226766",
   "metadata": {},
   "outputs": [
    {
     "name": "stdout",
     "output_type": "stream",
     "text": [
      "condition (at(r, from) and connected(from, to))\n",
      "condition (at(r, from) and connected(from, to))\n",
      "condition (at(r, from) and connected(from, to))\n",
      "condition (at(r, from) and connected(from, to))\n",
      "condition (at(r, from) and connected(from, to))\n",
      "condition (at(r, from) and connected(from, to))\n",
      "condition (at(r, from) and connected(from, to))\n",
      "condition (at(r, from) and connected(from, to))\n",
      "condition (at(r, from) and connected(from, to))\n"
     ]
    }
   ],
   "source": [
    "# define some helpful functions for later\n",
    "\n",
    "def is_action_applicable(action_instance, state: Set[str]) -> bool:\n",
    "    return True\n",
    "\n",
    "def apply_action(action_instance, state: Set[str]) -> Set[str]:\n",
    "    return state\n",
    "\n",
    "def ground_actions(problem):\n",
    "    return grounded_actions\n",
    "\n",
    "from unified_planning.io import PDDLReader\n",
    "\n",
    "reader = PDDLReader()\n",
    "problem = reader.parse_problem(\"domain.pddl\", \"problem.pddl\")\n",
    "\n",
    "actions = ground_actions(problem)\n"
   ]
  },
  {
   "cell_type": "markdown",
   "id": "56fdb9e0",
   "metadata": {},
   "source": [
    "\n",
    "### Coding Task 2.2\n",
    "Now that you can represent states and apply actions, you’ll implement a simple forward-search planner that:\n",
    "- Starts at the initial state.\n",
    "- Explores successors using BFS by expanding all successors through the applicable actions.\n",
    "- Returns the sequence of actions that leads to the goal state."
   ]
  },
  {
   "cell_type": "code",
   "execution_count": 88,
   "id": "b7314356",
   "metadata": {},
   "outputs": [],
   "source": [
    "def strips_planner(problem) -> Optional[List[str]]:\n",
    "    \n",
    "    return None  # No plan found"
   ]
  },
  {
   "cell_type": "code",
   "execution_count": 89,
   "id": "aabd1010",
   "metadata": {},
   "outputs": [
    {
     "name": "stdout",
     "output_type": "stream",
     "text": [
      "{'connected(room1, room2)', 'at(r1, room1)', 'connected(room2, room3)', 'connected(room1, room3)'}\n",
      "frozenset({'connected(room1, room2)', 'at(r1, room1)', 'connected(room2, room3)', 'connected(room1, room3)'})\n",
      "{frozenset({'connected(room1, room2)', 'at(r1, room1)', 'connected(room2, room3)', 'connected(room1, room3)'})}\n",
      "move(r1, room1, room1)\n",
      "condition (at(r, from) and connected(from, to))\n",
      "move(r1, room1, room2)\n",
      "condition (at(r, from) and connected(from, to))\n",
      "move(r1, room1, room3)\n",
      "condition (at(r, from) and connected(from, to))\n",
      "move(r1, room2, room1)\n",
      "condition (at(r, from) and connected(from, to))\n",
      "move(r1, room2, room2)\n",
      "condition (at(r, from) and connected(from, to))\n",
      "move(r1, room2, room3)\n",
      "condition (at(r, from) and connected(from, to))\n",
      "move(r1, room3, room1)\n",
      "condition (at(r, from) and connected(from, to))\n",
      "move(r1, room3, room2)\n",
      "condition (at(r, from) and connected(from, to))\n",
      "move(r1, room3, room3)\n",
      "condition (at(r, from) and connected(from, to))\n",
      "❌ No plan found.\n"
     ]
    }
   ],
   "source": [
    "from unified_planning.io import PDDLReader\n",
    "\n",
    "reader = PDDLReader()\n",
    "problem = reader.parse_problem(\"domain.pddl\", \"problem.pddl\")\n",
    "\n",
    "plan = strips_planner(problem)\n",
    "\n",
    "if plan:\n",
    "    print(\"Plan found:\")\n",
    "    for step in plan:\n",
    "        print(\"  \", step)\n",
    "else:\n",
    "    print(\"No plan found.\")"
   ]
  },
  {
   "cell_type": "markdown",
   "id": "143f1c81",
   "metadata": {},
   "source": [
    "### Planning as Heuristic Search\n",
    "We will now finally delve into heuristic-based forward search planning. In particular, we want to work with the $h_\\text{max}$ heuristic, which indicates the number of steps required to get all atoms in $G$ to be true. To compute a heuristic for planning problems, often some form of simplified problem is used. Think back to the geometric planning problems: the Manhattan distance is an admissible heuristic obtained from a simplifcation of the space. We can find similar simplifications also for STRIPS/PDDL Planning problems. \n",
    "\n",
    "#### Delete Relaxation\n",
    "The delete-relaxation (DR) was one of the first, widely established problem relaxations in classical planning and was the basis for several heuristics, notably $h^+$, $h_\\text{max}$, and $h_\\text{add}$.\n",
    "\n",
    "The DR is defined as follows: for a STRIPS action $a$, we denote $a^+$ the corresponding *delete relaxed action*, for which $\\text{pre}_{a^+}:=\\text{pre}_{a}$, $\\text{add}_{a^+}:=\\text{add}_{a}$, $\\text{del}_{a^+}:=\\emptyset$. If we apply this relaxation onto all actions $a\\in A$ of a STRIPS problem, we get the its corresponding *relaxed* planning task. \n",
    "\n",
    "There are two major insights to DR planning tasks:\n",
    "- **delete relaxations are over-approximating**, i.e., any suitable plan for a non-relaxed planning problem, is a plan for the corresponding relaxed planning problem, with its actions replaced by the relaxed actions. \n",
    "- **delete relaxations are fully decomposable**, i.e., any plan $\\pi_1$ that achives $G_1$ followed by any plan $\\pi_2$ that achieves $G_2$, the plan $\\pi_1, \\pi_2$ achieves both $G_1$ and $G_2$. This is because the delete relaxation can only ever make more facts true, it can never render any task unsolvable. \n",
    "\n",
    "Unfortunately, finding an optimal plan for the relaxed problem, is about as difficult as solving the original planning problem optimally (both are NP-hard). Thus, we haven't found a shortcut for the actual problem. However, finding any plan for the relaxed problem is easy. This is due to its decomposability: To yield a plan for a goal $G$, we just need a plan $\\pi_p$ for each atom $p \\in G$. Once we have our plans for each $p$, we can just stack them to get our (non-optimal) plan for $G$. \n",
    "\n",
    "#### The $h_\\text{max}$ Heuristic\n",
    "The $h_\\text{max}$ heuristic is one such heuristic derived from the DR of a planning problem. It is an admissible heuristic, thus optimal solutions can be derived through the solver. Generally it is considered an optimistic heuristic, i.e., it overestimates the quality of a given state and thus leads to non-optimal expansions in the search. \n",
    "\n",
    "We define the $h_\\text{max}$ heuristic recursively for a state $s$, a problem $P$, and a goal $G$ as follows:\n",
    "$$\n",
    "h_\\text{max}(s) := h_\\text{max}(s, G) := \n",
    "\\left\\{\n",
    "\\begin{array}{ll}\n",
    "0 & \\text{if } g \\subseteq s \\\\\\\\\n",
    "\\min\\limits_{a \\in A,\\ g' \\in \\text{add}(a)} c(a) + h_{\\text{max}}(s, \\text{pre}(a)) & \\text{if } g = \\{g'\\} \\\\\\\\\n",
    "{\\max\\limits_{g' \\in g}}\\, h_{\\text{max}}(s, \\{g'\\}) & \\text{if } |g| > 1\n",
    "\\end{array}\n",
    "\\right.\n",
    "$$\n",
    "\n",
    "Since we assume uniform costs $c(a)=1$, intuitively speaking, the $h_\\text{max}$ heuristic counts the number of steps to make all atoms in $G$ true in a current state. The lower the number, the *better* it is to expand the state, as it would mean less follow up expansions.  \n",
    "\n",
    "However, especially by modern standards, it is not considered to be a very informative heuristic. The reason for this is that the underlying simplification takes little consideration for interdepencies in the problem, thus leading to many non-optimal expansions. \n"
   ]
  },
  {
   "cell_type": "markdown",
   "id": "ed7e4b0e",
   "metadata": {},
   "source": [
    "\n",
    "### Coding Task 3.1\n",
    "You will now implement your own estimator function for the $h_\\text{max}$ heuristic and use A* or a similar heuristic search algorithm to solve the same planning problem as above. "
   ]
  },
  {
   "cell_type": "code",
   "execution_count": 90,
   "id": "e6d6372f",
   "metadata": {},
   "outputs": [],
   "source": [
    "def h_max(state):\n",
    "    return 0 # Replace with actual heuristic calculation\n",
    "\n",
    "def heuristic_planner(problem) -> Optional[List[str]]:\n",
    "    \n",
    "    return None  # No plan found"
   ]
  },
  {
   "cell_type": "code",
   "execution_count": null,
   "id": "badde33c",
   "metadata": {},
   "outputs": [],
   "source": [
    "from unified_planning.io import PDDLReader\n",
    "\n",
    "reader = PDDLReader()\n",
    "problem = reader.parse_problem(\"domain.pddl\", \"problem.pddl\")\n",
    "\n",
    "plan = heuristic_planner(problem)\n",
    "\n",
    "if plan:\n",
    "    print(\"Plan found:\")\n",
    "    for step in plan:\n",
    "        print(\"  \", step)\n",
    "else:\n",
    "    print(\"No plan found.\")"
   ]
  },
  {
   "cell_type": "markdown",
   "id": "eb077475",
   "metadata": {},
   "source": [
    "### Coding Task 3.2 \n",
    "Compare the planning times, number of expanded states, and heuristic computation times for both of your planner implementations."
   ]
  },
  {
   "cell_type": "markdown",
   "id": "c8779daf",
   "metadata": {},
   "source": [
    "## Submission Checklist\n",
    "- [ ] All of the coding tasks are completed\n",
    "- [ ] You can show the visualisations and animations as requested\n",
    "- [ ] You can confidently provide answers to the questions posed in the tasks"
   ]
  }
 ],
 "metadata": {
  "kernelspec": {
   "display_name": "Python 3 (ipykernel)",
   "language": "python",
   "name": "python3"
  },
  "language_info": {
   "codemirror_mode": {
    "name": "ipython",
    "version": 3
   },
   "file_extension": ".py",
   "mimetype": "text/x-python",
   "name": "python",
   "nbconvert_exporter": "python",
   "pygments_lexer": "ipython3",
   "version": "3.10.13"
  }
 },
 "nbformat": 4,
 "nbformat_minor": 5
}
